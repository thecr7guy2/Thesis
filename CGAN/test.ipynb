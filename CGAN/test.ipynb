{
 "cells": [
  {
   "cell_type": "code",
   "execution_count": 3,
   "id": "a82fe7f5",
   "metadata": {},
   "outputs": [],
   "source": [
    "import torch"
   ]
  },
  {
   "cell_type": "code",
   "execution_count": 9,
   "id": "4496db47",
   "metadata": {},
   "outputs": [],
   "source": [
    "import torch.nn.functional as F"
   ]
  },
  {
   "cell_type": "code",
   "execution_count": 10,
   "id": "199ff28f",
   "metadata": {},
   "outputs": [],
   "source": [
    "device = torch.device('cuda:0' if torch.cuda.is_available() else 'cpu')"
   ]
  },
  {
   "cell_type": "code",
   "execution_count": 11,
   "id": "74c01c21",
   "metadata": {},
   "outputs": [],
   "source": [
    "batch_size =8"
   ]
  },
  {
   "cell_type": "code",
   "execution_count": 14,
   "id": "c2b59a05",
   "metadata": {},
   "outputs": [],
   "source": [
    "noise_vec = torch.randn(batch_size, 64, device=device)"
   ]
  },
  {
   "cell_type": "code",
   "execution_count": 21,
   "id": "a4493930",
   "metadata": {},
   "outputs": [],
   "source": [
    "t = torch.ones(batch_size) * 4"
   ]
  },
  {
   "cell_type": "code",
   "execution_count": 22,
   "id": "d19d46ca",
   "metadata": {},
   "outputs": [],
   "source": [
    "t =t .long()"
   ]
  },
  {
   "cell_type": "code",
   "execution_count": 23,
   "id": "9d92b6be",
   "metadata": {},
   "outputs": [],
   "source": [
    "def one_hot(labels, n_classes):\n",
    "    return F.one_hot(labels, n_classes)"
   ]
  },
  {
   "cell_type": "code",
   "execution_count": 24,
   "id": "78948acf",
   "metadata": {},
   "outputs": [],
   "source": [
    "test = one_hot(t, 10)"
   ]
  },
  {
   "cell_type": "code",
   "execution_count": 25,
   "id": "109a6c31",
   "metadata": {},
   "outputs": [
    {
     "data": {
      "text/plain": [
       "tensor([[0, 0, 0, 0, 1, 0, 0, 0, 0, 0],\n",
       "        [0, 0, 0, 0, 1, 0, 0, 0, 0, 0],\n",
       "        [0, 0, 0, 0, 1, 0, 0, 0, 0, 0],\n",
       "        [0, 0, 0, 0, 1, 0, 0, 0, 0, 0],\n",
       "        [0, 0, 0, 0, 1, 0, 0, 0, 0, 0],\n",
       "        [0, 0, 0, 0, 1, 0, 0, 0, 0, 0],\n",
       "        [0, 0, 0, 0, 1, 0, 0, 0, 0, 0],\n",
       "        [0, 0, 0, 0, 1, 0, 0, 0, 0, 0]])"
      ]
     },
     "execution_count": 25,
     "metadata": {},
     "output_type": "execute_result"
    }
   ],
   "source": [
    "test"
   ]
  },
  {
   "cell_type": "code",
   "execution_count": null,
   "id": "d5627688",
   "metadata": {},
   "outputs": [],
   "source": []
  }
 ],
 "metadata": {
  "kernelspec": {
   "display_name": "Python 3 (ipykernel)",
   "language": "python",
   "name": "python3"
  },
  "language_info": {
   "codemirror_mode": {
    "name": "ipython",
    "version": 3
   },
   "file_extension": ".py",
   "mimetype": "text/x-python",
   "name": "python",
   "nbconvert_exporter": "python",
   "pygments_lexer": "ipython3",
   "version": "3.8.10"
  }
 },
 "nbformat": 4,
 "nbformat_minor": 5
}
